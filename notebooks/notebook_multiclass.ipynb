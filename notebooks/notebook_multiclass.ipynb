{
 "cells": [
  {
   "cell_type": "markdown",
   "metadata": {},
   "source": [
    "# Multiclass classification"
   ]
  },
  {
   "cell_type": "markdown",
   "metadata": {},
   "source": [
    "## Introduction\n",
    "\n",
    "In this notebook, we will perform a multiclass classification analysis using large language models (LLMs). \n",
    "Multiclass classification refers to the task of categorizing data entries into one of three or more predefined categories, as opposed to binary classification, which involves only two categories.\n",
    "\n",
    "The dataset should be formatted with one row per entry, ensuring that each entry represents a single instance of data. One column is designated as a unique identifier, which allows for later comparisons between the results from LLM analysis and human annotations.\n",
    "\n",
    "### Dataset Description\n",
    "\n",
    "The dataset used in this notebook is an anonymized subset from the study available at https://doi.org/10.1007/s40593-023-00340-7. In the original experiment, children were asked to read a text and then pose a question related to it. The questions were subsequently categorized into three distinct types:\n",
    "\n",
    "- Answerable from the text: Questions where the answer could be directly found in the text.\n",
    "- Inferable from the text: Questions where the answer could be inferred but required deeper understanding or reasoning based on the text.\n",
    "- Not answerable by the text: Questions where the answer could not be derived from the text at all.\n",
    "\n",
    "In the example dataset:\n",
    "- **Reference Text**: A column containing the text that children were asked to read beforehand.\n",
    "- **Question**: A column containing the questions posed by the children after reading the reference text.\n",
    "\n",
    "To classify a question, both the reference text and the question itself are required, as the classification depends on the relationship between the two.\n",
    "\n",
    "Additionally, the dataset includes ratings from three different human annotators. These ratings allow us to compute inter-annotator agreement, such as Cohen's kappa, once the analysis is complete."
   ]
  },
  {
   "cell_type": "markdown",
   "metadata": {},
   "source": [
    "## Import the libraries"
   ]
  },
  {
   "cell_type": "code",
   "execution_count": 1,
   "metadata": {},
   "outputs": [],
   "source": [
    "import os\n",
    "import pandas as pd\n",
    "from qualitative_analysis import (\n",
    "    load_data,\n",
    "    clean_and_normalize,\n",
    "    sanitize_dataframe,\n",
    "    get_llm_client,\n",
    "    compute_all_kappas,\n",
    "    plot_confusion_matrices,\n",
    "    process_verbatims_for_multiclass_criteria,\n",
    ")\n",
    "import qualitative_analysis.config as config"
   ]
  },
  {
   "cell_type": "markdown",
   "metadata": {},
   "source": [
    "## Load the data\n",
    "\n",
    "To begin, we need to load the dataset, which is stored in the `data` folder located in the project's root directory.\n",
    "\n",
    "In this step, we define the data directory and the file path for the dataset. We then load the data and preview the first few rows to get an overview of the dataset's structure and content."
   ]
  },
  {
   "cell_type": "code",
   "execution_count": 2,
   "metadata": {},
   "outputs": [
    {
     "data": {
      "text/html": [
       "<div>\n",
       "<style scoped>\n",
       "    .dataframe tbody tr th:only-of-type {\n",
       "        vertical-align: middle;\n",
       "    }\n",
       "\n",
       "    .dataframe tbody tr th {\n",
       "        vertical-align: top;\n",
       "    }\n",
       "\n",
       "    .dataframe thead th {\n",
       "        text-align: right;\n",
       "    }\n",
       "</style>\n",
       "<table border=\"1\" class=\"dataframe\">\n",
       "  <thead>\n",
       "    <tr style=\"text-align: right;\">\n",
       "      <th></th>\n",
       "      <th>q_index</th>\n",
       "      <th>text</th>\n",
       "      <th>question</th>\n",
       "      <th>div_rater1</th>\n",
       "      <th>div_rater2</th>\n",
       "      <th>div_rater3</th>\n",
       "    </tr>\n",
       "  </thead>\n",
       "  <tbody>\n",
       "    <tr>\n",
       "      <th>0</th>\n",
       "      <td>196</td>\n",
       "      <td>Les énormes yeux des insectes font quasiment l...</td>\n",
       "      <td>Pourquoi ces petits yeux sont chargés de trait...</td>\n",
       "      <td>2.0</td>\n",
       "      <td>2.0</td>\n",
       "      <td>2.0</td>\n",
       "    </tr>\n",
       "    <tr>\n",
       "      <th>1</th>\n",
       "      <td>197</td>\n",
       "      <td>Les énormes yeux des insectes font quasiment l...</td>\n",
       "      <td>Comment les point sont ensuite assemblés</td>\n",
       "      <td>2.0</td>\n",
       "      <td>2.0</td>\n",
       "      <td>0.0</td>\n",
       "    </tr>\n",
       "    <tr>\n",
       "      <th>2</th>\n",
       "      <td>198</td>\n",
       "      <td>Les énormes yeux des insectes font quasiment l...</td>\n",
       "      <td>C'est quoi un casque de vision 3D ?</td>\n",
       "      <td>2.0</td>\n",
       "      <td>2.0</td>\n",
       "      <td>2.0</td>\n",
       "    </tr>\n",
       "    <tr>\n",
       "      <th>3</th>\n",
       "      <td>199</td>\n",
       "      <td>Les énormes yeux des insectes font quasiment l...</td>\n",
       "      <td>Combien d'yeux petits ont les humains en moyen...</td>\n",
       "      <td>2.0</td>\n",
       "      <td>2.0</td>\n",
       "      <td>2.0</td>\n",
       "    </tr>\n",
       "    <tr>\n",
       "      <th>4</th>\n",
       "      <td>200</td>\n",
       "      <td>Les énormes yeux des insectes font quasiment l...</td>\n",
       "      <td>Quel être vivant a le plus de petis yeux ?</td>\n",
       "      <td>1.0</td>\n",
       "      <td>1.0</td>\n",
       "      <td>2.0</td>\n",
       "    </tr>\n",
       "  </tbody>\n",
       "</table>\n",
       "</div>"
      ],
      "text/plain": [
       "   q_index                                               text  \\\n",
       "0      196  Les énormes yeux des insectes font quasiment l...   \n",
       "1      197  Les énormes yeux des insectes font quasiment l...   \n",
       "2      198  Les énormes yeux des insectes font quasiment l...   \n",
       "3      199  Les énormes yeux des insectes font quasiment l...   \n",
       "4      200  Les énormes yeux des insectes font quasiment l...   \n",
       "\n",
       "                                            question  div_rater1  div_rater2  \\\n",
       "0  Pourquoi ces petits yeux sont chargés de trait...         2.0         2.0   \n",
       "1           Comment les point sont ensuite assemblés         2.0         2.0   \n",
       "2                C'est quoi un casque de vision 3D ?         2.0         2.0   \n",
       "3  Combien d'yeux petits ont les humains en moyen...         2.0         2.0   \n",
       "4         Quel être vivant a le plus de petis yeux ?         1.0         1.0   \n",
       "\n",
       "   div_rater3  \n",
       "0         2.0  \n",
       "1         0.0  \n",
       "2         2.0  \n",
       "3         2.0  \n",
       "4         2.0  "
      ]
     },
     "execution_count": 2,
     "metadata": {},
     "output_type": "execute_result"
    }
   ],
   "source": [
    "# Define data directory\n",
    "data_dir = 'data'\n",
    "os.makedirs(data_dir, exist_ok=True)\n",
    "\n",
    "# Define the path to your dataset\n",
    "data_file_path = os.path.join(data_dir, 'multiclass_sample_split.csv')\n",
    "\n",
    "# Load the data\n",
    "data = load_data(data_file_path, file_type='csv', delimiter=';')\n",
    "\n",
    "# Preview the data\n",
    "data.head()"
   ]
  },
  {
   "cell_type": "markdown",
   "metadata": {},
   "source": [
    "## Data Preprocessing\n",
    "\n",
    "In this step, we preprocess the dataset to ensure it is ready for analysis. The operations include:\n",
    "\n",
    "1. **Rename Columns** (optional): Rename the original column names to more descriptive ones for clarity.\n",
    "2. **Define Text Columns**: Identify the columns containing textual data (here `text` and `question`) for further cleaning.\n",
    "3. **Clean and Normalize Text**: Apply a cleaning function to normalize and standardize the text data in the identified columns.\n",
    "4. **Sanitize the DataFrame**: Remove any newline or carriage return characters from string columns to ensure consistent formatting across the dataset.\n",
    "\n",
    "These preprocessing steps prepare the data for analysis."
   ]
  },
  {
   "cell_type": "code",
   "execution_count": 3,
   "metadata": {},
   "outputs": [],
   "source": [
    "# 1) Now define the new column names for cleaning\n",
    "text_columns = [\"text\", \"question\"]\n",
    "\n",
    "# 2) Clean and normalize the new columns\n",
    "for col in text_columns:\n",
    "    data[col] = clean_and_normalize(data[col])\n",
    "\n",
    "# 3) Sanitize the DataFrame\n",
    "data = sanitize_dataframe(data)\n"
   ]
  },
  {
   "cell_type": "markdown",
   "metadata": {},
   "source": [
    "## Combine Texts and Questions\n",
    "\n",
    "Then, we combine the reference texts and questions into a single formatted string for each row called **verbatim**, making it easier to process and analyze."
   ]
  },
  {
   "cell_type": "code",
   "execution_count": 4,
   "metadata": {},
   "outputs": [
    {
     "name": "stdout",
     "output_type": "stream",
     "text": [
      "Total number of verbatims: 107\n",
      "Verbatim example:\n",
      "Text: Les enormes yeux des insectes font quasiment le tour de leurs tetes. Ils voient donc en meme temps vers lavant, vers larriere, a droite, a gauche, vers le haut et vers le bas. Encore mieux quun casque de vision en 3D! En revanche, ils ne voient pas tres net, parce que leur il est constitue de centaines, ou meme de milliers de petits yeux simples. Chacun de ces petits yeux est charge de traiter une toute petite partie de lenvironnement. Un petit il produit un simple point dune teinte et dune intensite lumineuse donnees. Ces points sont ensuite assembles les uns aux autres dans le cerveau de linsecte pour former une image complete et unique. Un il dune abeille contient 4500 petits yeux. Celui dune libellule en a 15000: cest l'il le plus complexe chez les insectes !\n",
      "\n",
      "Question: Pourquoi ces petits yeux sont charges de traiter une petite partie de l'environnement ?\n"
     ]
    }
   ],
   "source": [
    "# Combine texts and entries\n",
    "\n",
    "data['verbatim'] = data.apply(\n",
    "    lambda row: (\n",
    "        f\"Text: {row['text']}\\n\\n\"\n",
    "        f\"Question: {row['question']}\"\n",
    "    ),\n",
    "    axis=1\n",
    ")\n",
    "\n",
    "# Extract the list of verbatims\n",
    "verbatims = data['verbatim'].tolist()\n",
    "\n",
    "print(f\"Total number of verbatims: {len(verbatims)}\")\n",
    "print(f\"Verbatim example:\\n{verbatims[0]}\")"
   ]
  },
  {
   "cell_type": "code",
   "execution_count": 5,
   "metadata": {},
   "outputs": [
    {
     "name": "stdout",
     "output_type": "stream",
     "text": [
      "Number of labeled rows: 77\n",
      "Number of unlabeled rows: 30\n"
     ]
    }
   ],
   "source": [
    "# Identify the columns that represent your human ratings\n",
    "annotation_columns = ['div_rater1', 'div_rater2', 'div_rater3']\n",
    "\n",
    "# Filter labeled data (drop rows with NaN in any annotation column)\n",
    "labeled_data = data.dropna(subset=annotation_columns)\n",
    "\n",
    "# Filter unlabeled data\n",
    "unlabeled_data = data[~data.index.isin(labeled_data.index)]\n",
    "\n",
    "print(\"Number of labeled rows:\", len(labeled_data))\n",
    "print(\"Number of unlabeled rows:\", len(unlabeled_data))\n"
   ]
  },
  {
   "cell_type": "code",
   "execution_count": 6,
   "metadata": {},
   "outputs": [
    {
     "name": "stderr",
     "output_type": "stream",
     "text": [
      "C:\\Users\\ocler\\AppData\\Local\\Temp\\ipykernel_18264\\1790078544.py:7: SettingWithCopyWarning: \n",
      "A value is trying to be set on a copy of a slice from a DataFrame.\n",
      "Try using .loc[row_indexer,col_indexer] = value instead\n",
      "\n",
      "See the caveats in the documentation: https://pandas.pydata.org/pandas-docs/stable/user_guide/indexing.html#returning-a-view-versus-a-copy\n",
      "  labeled_data['gold_label'] = labeled_data.apply(majority_vote, axis=1)\n"
     ]
    }
   ],
   "source": [
    "def majority_vote(row):\n",
    "    # row is a Series with e.g. [1.0, 2.0, 2.0]\n",
    "    # Convert to int just in case\n",
    "    rater_vals = [int(x) for x in row[annotation_columns]]\n",
    "    return max(set(rater_vals), key=rater_vals.count)\n",
    "\n",
    "labeled_data['gold_label'] = labeled_data.apply(majority_vote, axis=1)\n"
   ]
  },
  {
   "cell_type": "code",
   "execution_count": 7,
   "metadata": {},
   "outputs": [
    {
     "name": "stdout",
     "output_type": "stream",
     "text": [
      "Train size: 61\n",
      "Val size: 16\n"
     ]
    }
   ],
   "source": [
    "from sklearn.model_selection import train_test_split\n",
    "# For demonstration, do an 80/20 split\n",
    "train_data, val_data = train_test_split(labeled_data, test_size=0.2, random_state=42)\n",
    "\n",
    "print(\"Train size:\", len(train_data))\n",
    "print(\"Val size:\", len(val_data))\n"
   ]
  },
  {
   "cell_type": "code",
   "execution_count": 8,
   "metadata": {},
   "outputs": [],
   "source": [
    "from typing import List, Dict\n",
    "\n",
    "def run_multiclass_pipeline(\n",
    "    df_subset: pd.DataFrame,\n",
    "    codebooks: Dict[str, str],\n",
    "    llm_client,\n",
    "    model_name: str,\n",
    "    prompt_template: str,\n",
    "    multiclass_query: str,\n",
    "    reasoning_query: str,\n",
    "    valid_scores: List[int],\n",
    "    reasoning: bool = False,\n",
    "    verbose: bool = False\n",
    ") -> pd.DataFrame:\n",
    "    \"\"\"\n",
    "    Runs `process_verbatims_for_multiclass_criteria` on df_subset\n",
    "    and returns a DataFrame with the results.\n",
    "    \"\"\"\n",
    "    # Convert the 'verbatim' column to a list\n",
    "    verbatims_list = df_subset['verbatim'].tolist()\n",
    "    \n",
    "    # Run your existing function\n",
    "    results, verbatim_costs = process_verbatims_for_multiclass_criteria(\n",
    "        verbatims_subset=verbatims_list,\n",
    "        codebooks=codebooks,\n",
    "        llm_client=llm_client,\n",
    "        model_name=model_name,\n",
    "        prompt_template=prompt_template,\n",
    "        multiclass_query=multiclass_query,\n",
    "        reasoning_query=reasoning_query,\n",
    "        valid_scores=valid_scores,\n",
    "        reasoning=reasoning,\n",
    "        verbose=verbose,\n",
    "    )\n",
    "    \n",
    "    # Convert to DataFrame\n",
    "    results_df = pd.DataFrame(results)\n",
    "    # We’ll store the final “Label” as an integer column: “pred_label”\n",
    "    results_df['pred_label'] = results_df['Label'].astype(float).astype(pd.Int64Dtype())\n",
    "    \n",
    "    # Because you pass multiple codebooks or themes, you might get multiple rows per verbatim.\n",
    "    # If you only have 1 \"theme\" in your codebook, you'll get 1 row per verbatim.\n",
    "    # We can join back on the original DataFrame index by enumerating with the same order.\n",
    "    \n",
    "    # If there's exactly 1 theme, you can do a direct index alignment:\n",
    "    # But if there's more than 1 theme, you have a one-to-many relationship. Adjust as needed.\n",
    "    results_df.reset_index(drop=True, inplace=True)\n",
    "    \n",
    "    # We'll also add an index to df_subset to line up rows\n",
    "    df_subset = df_subset.reset_index(drop=True)\n",
    "    \n",
    "    # Combine them. If you have only one theme, they line up by row:\n",
    "    combined_df = pd.concat([df_subset, results_df[['Theme','pred_label']]], axis=1)\n",
    "    \n",
    "    return combined_df"
   ]
  },
  {
   "cell_type": "markdown",
   "metadata": {},
   "source": [
    "## Choose the LLM\n",
    "\n",
    "In this step, we initialize the client to interact with a specific large language model (LLM) provider.\n",
    "This setup enables communication with the chosen language model.\n",
    "\n",
    "For OpenAI models use the openai API, for open-source models use the TogetherAI API.\n",
    "\n",
    "OpenAI models: https://platform.openai.com/docs/models\n",
    "\n",
    "TogetherAI models: https://docs.together.ai/docs/chat-models"
   ]
  },
  {
   "cell_type": "code",
   "execution_count": 9,
   "metadata": {},
   "outputs": [],
   "source": [
    "# Choose the provider and model\n",
    "provider = 'azure'\n",
    "model_name = 'gpt-4o-mini'\n",
    "\n",
    "# Initialize the client\n",
    "llm_client = get_llm_client(provider=provider, config=config.MODEL_CONFIG[provider])"
   ]
  },
  {
   "cell_type": "markdown",
   "metadata": {},
   "source": [
    "## Prompt Construction and Classification\n",
    "\n",
    "In this step, we define the logic for constructing prompts and processing data for multiclass classification using LLMs. The structure of the prompt provided to the LLM includes:\n",
    "\n",
    "1. **Column Descriptions**:  \n",
    "   A brief explanation of the dataset columns to clarify their roles.\n",
    "\n",
    "2. **Codebook**:  \n",
    "   Clear instructions for the classification task, written as if you were explaining the task to a human annotator.\n",
    "\n",
    "3. **Examples (Optional)**:  \n",
    "   Include illustrative examples (not included in the dataset) formatted to demonstrate the desired classification approach, guiding the LLM in the classification process.\n",
    "\n",
    "4. **Verbatims**:  \n",
    "   The specific reference text and question from the dataset to be classified.\n",
    "\n",
    "### Classification Settings\n",
    "- **Reasoning**:  \n",
    "  - `reasoning = False`: A single-step classification where the LLM directly returns a classification label (e.g., `0`, `1`, or `2`). This uses only the multiclass query.  \n",
    "  - `reasoning = True`: A two-step process where the LLM first generates a reasoning statement (based on the reasoning query). The reasoning, combined with the initial prompt and multiclass query, is used to determine the classification label. This requires two LLM calls per entry.\n",
    "\n",
    "- **Valid Scores**:  \n",
    "  `valid_scores = [0, 1, 2]`: The list of possible classification labels, which can be adjusted to match the specific requirements of the task."
   ]
  },
  {
   "cell_type": "code",
   "execution_count": 10,
   "metadata": {},
   "outputs": [],
   "source": [
    "experiment_results = []\n"
   ]
  },
  {
   "cell_type": "code",
   "execution_count": 11,
   "metadata": {},
   "outputs": [
    {
     "name": "stdout",
     "output_type": "stream",
     "text": [
      "=== Train Results ===\n",
      "\n",
      "=== Processing Complete ===\n",
      "Total Tokens Used: 57674\n",
      "Total Cost for Processing: $0.0087\n",
      "Train Cohen's Kappa: 0.09\n"
     ]
    },
    {
     "data": {
      "image/png": "[encoded data removed]",
      "text/plain": [
       "<Figure size 600x500 with 2 Axes>"
      ]
     },
     "metadata": {},
     "output_type": "display_data"
    },
    {
     "name": "stdout",
     "output_type": "stream",
     "text": [
      "Class 0 accuracy: 57.1%\n",
      "Class 1 accuracy: 46.7%\n",
      "Class 2 accuracy: 30.8%\n",
      "Mean per-class accuracy: 44.9%\n",
      "\n",
      "=== Validation Results ===\n",
      "\n",
      "=== Processing Complete ===\n",
      "Total Tokens Used: 15150\n",
      "Total Cost for Processing: $0.0023\n",
      "model vs Rater1: 0.17\n",
      "model vs Rater2: 0.17\n",
      "model vs Rater3: -0.02\n",
      "Rater1 vs Rater2: 1.00\n",
      "Rater1 vs Rater3: 0.20\n",
      "Rater2 vs Rater3: 0.20\n",
      "Kappa Results (dict): {'model_vs_Rater1': 0.1724137931034483, 'model_vs_Rater2': 0.1724137931034483, 'model_vs_Rater3': -0.019607843137254832, 'Rater1_vs_Rater2': 1.0, 'Rater1_vs_Rater3': 0.19999999999999996, 'Rater2_vs_Rater3': 0.19999999999999996}\n"
     ]
    },
    {
     "data": {
      "image/png": "[encoded data removed]",
      "text/plain": [
       "<Figure size 1800x500 with 6 Axes>"
      ]
     },
     "metadata": {},
     "output_type": "display_data"
    },
    {
     "data": {
      "image/png": "[encoded data removed]",
      "text/plain": [
       "<Figure size 1800x500 with 6 Axes>"
      ]
     },
     "metadata": {},
     "output_type": "display_data"
    }
   ],
   "source": [
    "# Define instructions for multiclass classification\n",
    "from sklearn.metrics import cohen_kappa_score\n",
    "from sklearn.metrics import confusion_matrix\n",
    "# Classification settings\n",
    "reasoning = False  # If True, perform two-step reasoning. If False, single-step classification.\n",
    "verbose = False # If True, show the prompt\n",
    "\n",
    "# Define valid scores (modifiable in the notebook)\n",
    "valid_scores = [0, 1, 2]  # You can change this to any list of valid scores\n",
    "\n",
    "codebook = {\n",
    "\"Classification de divergence\":\n",
    "\n",
    "\"\"\"Codebook:\n",
    "\n",
    "Les données se composent d'un texte de référence et d'une question posée par un enfant.\n",
    "Vous devez classer la question dans l'une des catégories suivantes :\n",
    "\n",
    "0 : la réponse à la question est indiquée dans le texte.\n",
    "1 : la réponse à la question n'est pas explicitement indiquée dans le texte, mais peut être déduite ou devinée à partir du texte.\n",
    "2 : la réponse à la question n'est pas du tout indiquée dans le texte.\n",
    "\n",
    "Les erreurs mineures d'orthographe, de grammaire ou de formulation ne doivent pas être pénalisées tant que l'intention de l'entrée est claire et respecte les critères d'inclusion. Concentrez-vous sur le contenu et l'objectif de l'entrée plutôt que sur la perfection linguistique.\n",
    "\n",
    "Exemples:\n",
    "\n",
    "Exemple 1\n",
    "Texte: Marie Curie est née en Pologne. Elle fait ses études à la faculté des sciences de Paris. Elle fait partie des rares femmes qui y sont admises. Avec son mari Pierre Curie, ils travaillent sur l’étude des rayons X et découvrent deux éléments radioactifs. Le couple reçoit le prix Nobel de physique pour ça. Pendant la Première Guerre mondiale, Marie met en place des ambulances équipées d’appareils de radiologie, ce qui permet de sauver de nombreux blessés. Marie Curie est la première femme à avoir reçu deux prix Nobel: un avec Pierre Curie en physique, et l’autre pour ses recherches en chimie. Elle est morte en 1934.\n",
    "Question: Quand est-elle née ?\n",
    "Réponse: 2\n",
    "\n",
    "Exemple 2\n",
    "Texte: Marie Curie est née en Pologne. Elle fait ses études à la faculté des sciences de Paris. Elle fait partie des rares femmes qui y sont admises. Avec son mari Pierre Curie, ils travaillent sur l’étude des rayons X et découvrent deux éléments radioactifs. Le couple reçoit le prix Nobel de physique pour ça. Pendant la Première Guerre mondiale, Marie met en place des ambulances équipées d’appareils de radiologie, ce qui permet de sauver de nombreux blessés. Marie Curie est la première femme à avoir reçu deux prix Nobel: un avec Pierre Curie en physique, et l’autre pour ses recherches en chimie. Elle est morte en 1934.\n",
    "Question: Marie a-t-elle passé toute sa vie en Pologne ?\n",
    "Réponse: 0\n",
    "\n",
    "Exemple 3\n",
    "Texte: Marie Curie est née en Pologne. Elle fait ses études à la faculté des sciences de Paris. Elle fait partie des rares femmes qui y sont admises. Avec son mari Pierre Curie, ils travaillent sur l’étude des rayons X et découvrent deux éléments radioactifs. Le couple reçoit le prix Nobel de physique pour ça. Pendant la Première Guerre mondiale, Marie met en place des ambulances équipées d’appareils de radiologie, ce qui permet de sauver de nombreux blessés. Marie Curie est la première femme à avoir reçu deux prix Nobel: un avec Pierre Curie en physique, et l’autre pour ses recherches en chimie. Elle est morte en 1934.\n",
    "Question: Qui est Pierre Curie ?\n",
    "Réponse: 1\n",
    "\"\"\"\n",
    "}\n",
    "\n",
    "# Define column descriptions\n",
    "column_descriptions = (\n",
    "    \"Texte: Le texte de référence\\n\"\n",
    "    \"Question: La question de l'enfant.\"\n",
    ")\n",
    "\n",
    "# Define queries for multiclass classification and reasoning\n",
    "multiclass_query = \"Répondez uniquement avec le chiffre de classification, rien d'autre.\"\n",
    "reasoning_query = \"Générez un raisonnement d'une seule phrase à propos de la classification (ne donnez pas le label de classification).\" # used only if reasoning = True\n",
    "\n",
    "# To be sure to have an integer only when doing 1 call request\n",
    "command = (\n",
    "    \"Votre réponse ne doit contenir que le chiffre de classification, rien d'autre.\"\n",
    "    if not reasoning\n",
    "    else \"\"\n",
    ")\n",
    "\n",
    "prompt_template = f\"\"\"\n",
    "Vous êtes un assistant utile chargé d'évaluer l'entrée suivante :\n",
    "\n",
    "Entrée:\n",
    "{{verbatim_text}}\n",
    "\n",
    "Vous devez l'évaluer de la sorte :\n",
    "{{codebook}}\n",
    "Les données sont au format suivant :\n",
    "{column_descriptions}\n",
    "\n",
    "{command}\n",
    "\"\"\"\n",
    "\n",
    "\n",
    "##################################\n",
    "# 1) RUN PIPELINE ON THE TRAIN SET\n",
    "##################################\n",
    "\n",
    "# --- Print a header for Train Results ---\n",
    "print(\"=== Train Results ===\")\n",
    "\n",
    "train_results_df = run_multiclass_pipeline(\n",
    "    df_subset=train_data,\n",
    "    codebooks=codebook,\n",
    "    llm_client=llm_client,  # your LLM client\n",
    "    model_name=model_name,\n",
    "    prompt_template=prompt_template,\n",
    "    multiclass_query=multiclass_query,\n",
    "    reasoning_query=reasoning_query,\n",
    "    valid_scores=valid_scores,\n",
    "    reasoning=reasoning,\n",
    "    verbose=verbose\n",
    ")\n",
    "\n",
    "model_coding_train = train_results_df['pred_label'].tolist()\n",
    "gold_train = train_results_df['gold_label'].tolist()\n",
    "labels_list = [0, 1, 2]\n",
    "\n",
    "\n",
    "# (A) Cohen's Kappa on the Train set\n",
    "train_kappa = cohen_kappa_score(gold_train, model_coding_train, labels=labels_list)\n",
    "print(f\"Train Cohen's Kappa: {train_kappa:.2f}\")\n",
    "\n",
    "# If your function requires model_coding / human_annotations:\n",
    "plot_confusion_matrices(\n",
    "    model_coding=model_coding_train,\n",
    "    human_annotations={\"Gold\": gold_train},\n",
    "    labels=[0,1,2]\n",
    ")\n",
    "# This presumably shows a raw count matrix (Model vs Gold).\n",
    "\n",
    "# Then, separately, compute cm_norm for row-based metrics:\n",
    "cm_norm = confusion_matrix(\n",
    "    y_true=gold_train,\n",
    "    y_pred=model_coding_train,\n",
    "    labels=[0,1,2],\n",
    "    normalize='true'\n",
    ")\n",
    "class_accuracies = cm_norm.diagonal()\n",
    "for lbl, acc in zip([0,1,2], class_accuracies):\n",
    "    print(f\"Class {lbl} accuracy: {acc*100:.1f}%\")\n",
    "\n",
    "mean_acc = class_accuracies.mean()\n",
    "print(f\"Mean per-class accuracy: {mean_acc*100:.1f}%\\n\")\n",
    "\n",
    "\n",
    "#####################################\n",
    "# 2) RUN PIPELINE ON THE VALIDATION SET\n",
    "#####################################\n",
    "\n",
    "# --- Print a header for Validation Results ---\n",
    "print(\"=== Validation Results ===\")\n",
    "\n",
    "val_results_df = run_multiclass_pipeline(\n",
    "    df_subset=val_data,\n",
    "    codebooks=codebook,\n",
    "    llm_client=llm_client,\n",
    "    model_name=model_name,\n",
    "    prompt_template=prompt_template,\n",
    "    multiclass_query=multiclass_query,\n",
    "    reasoning_query=reasoning_query,\n",
    "    valid_scores=valid_scores,\n",
    "    reasoning=reasoning,\n",
    "    verbose=verbose\n",
    ")\n",
    "\n",
    "val_model_preds = val_results_df['pred_label'].tolist()\n",
    "human_annotations_val = {\n",
    "    \"Rater1\": val_results_df['div_rater1'].tolist(),\n",
    "    \"Rater2\": val_results_df['div_rater2'].tolist(),\n",
    "    \"Rater3\": val_results_df['div_rater3'].tolist()\n",
    "}\n",
    "\n",
    "# 2.1) Kappa vs each rater + rater vs rater\n",
    "kappa_results_val = compute_all_kappas(\n",
    "    model_coding=val_model_preds,\n",
    "    human_annotations=human_annotations_val,\n",
    "    labels=labels_list,\n",
    "    weights=None,\n",
    "    verbose=True\n",
    ")\n",
    "print(\"Kappa Results (dict):\", kappa_results_val)\n",
    "\n",
    "# 2.2) Confusion matrices (model vs each rater; rater vs rater)\n",
    "plot_confusion_matrices(\n",
    "    model_coding=val_model_preds,\n",
    "    human_annotations=human_annotations_val,\n",
    "    labels=labels_list\n",
    ")"
   ]
  },
  {
   "cell_type": "markdown",
   "metadata": {},
   "source": [
    "## Saving the Results\n",
    "\n",
    "This step provides an option to save the classification results to a file for future reference or further analysis."
   ]
  },
  {
   "cell_type": "code",
   "execution_count": 11,
   "metadata": {},
   "outputs": [],
   "source": [
    "# Possibility to save the results\n",
    "\n",
    "# import datetime\n",
    "# # Define the save path\n",
    "# outputs_dir = os.path.join(data_dir, 'outputs')\n",
    "# os.makedirs(outputs_dir, exist_ok=True)\n",
    "# timestamp = datetime.now().strftime('%Y%m%d_%H%M%S')\n",
    "# save_path = os.path.join(\n",
    "#     outputs_dir, \n",
    "#     f\"experiment_{model_name.replace('/', '_')}_{timestamp}.xlsx\" \n",
    "# )\n",
    "\n",
    "# # Save the DataFrame to Excel\n",
    "# try:\n",
    "#     results_df.to_excel(save_path, index=False, sheet_name='Results')\n",
    "#     print(f\"Results successfully saved to: {save_path}\")\n",
    "# except Exception as e:\n",
    "#     print(f\"An error occurred while saving the Excel file: {e}\")"
   ]
  },
  {
   "cell_type": "markdown",
   "metadata": {},
   "source": [
    "## Evaluating Model Performance Against Human Annotations\n",
    "\n",
    "### Computing Cohen's Kappa\n",
    "\n",
    "In this step, we compare the model's classifications with human annotations using Cohen's Kappa.\n",
    "\n",
    "1. **Unweighted Kappa**:  \n",
    "   All disagreements are treated equally, regardless of the \"distance\" between the categories. For example, a mismatch between `0` and `1` is penalized the same as a mismatch between `0` and `2`.\n",
    "\n",
    "2. **Linear Weights**:  \n",
    "   With `weights='linear'`, disagreements are penalized proportionally to their distance. For instance:\n",
    "   - A mismatch between `0` and `1` incurs a smaller penalty than a mismatch between `0` and `2`.\n",
    "   - This approach is suitable when the categories have a natural ordering (e.g., `0 < 1 < 2`) but the differences are not exponential.\n",
    "\n",
    "3. **Quadratic Weights**:  \n",
    "   With `weights='quadratic'`, disagreements are penalized more heavily as the distance increases. This approach emphasizes larger disagreements even more than linear weights.\n",
    "\n"
   ]
  },
  {
   "cell_type": "markdown",
   "metadata": {},
   "source": [
    "### Visualizing Agreement\n",
    "\n",
    "In this step, we plot confusion matrices to visualize the agreement between the model's classifications and human annotations, or between two human annotations.\n",
    "\n",
    "**Inputs**:\n",
    "- `model_coding_short`: The model's predictions for the subset of data.\n",
    "- `human_annotations_short`: The annotations from human raters for the same subset.\n",
    "\n",
    "**Labels**:\n",
    "- `[0, 1, 2]`: The three classification categories representing:\n",
    "   - `0`: The answer is explicitly in the text.\n",
    "   - `1`: The answer can be inferred from the text.\n",
    "   - `2`: The answer is not in the text at all.\n"
   ]
  }
 ],
 "metadata": {
  "kernelspec": {
   "display_name": "gpt_rl",
   "language": "python",
   "name": "python3"
  },
  "language_info": {
   "codemirror_mode": {
    "name": "ipython",
    "version": 3
   },
   "file_extension": ".py",
   "mimetype": "text/x-python",
   "name": "python",
   "nbconvert_exporter": "python",
   "pygments_lexer": "ipython3",
   "version": "3.11.10"
  }
 },
 "nbformat": 4,
 "nbformat_minor": 2
}
