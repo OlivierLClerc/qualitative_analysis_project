{
 "cells": [
  {
   "cell_type": "markdown",
   "metadata": {},
   "source": [
    "# Multiclass classification"
   ]
  },
  {
   "cell_type": "markdown",
   "metadata": {},
   "source": [
    "## Introduction\n",
    "\n",
    "In this notebook, we will perform a multiclass classification analysis using large language models (LLMs). \n",
    "Multiclass classification refers to the task of categorizing data entries into one of three or more predefined categories, as opposed to binary classification, which involves only two categories.\n",
    "\n",
    "The dataset should be formatted with one row per entry, ensuring that each entry represents a single instance of data. One column is designated as a unique identifier, which allows for later comparisons between the results from LLM analysis and human annotations.\n",
    "\n",
    "### Dataset Description\n",
    "\n",
    "The dataset used in this notebook is an anonymized subset from the study available at https://doi.org/10.1007/s40593-023-00340-7. In the original experiment, children were asked to read a text and then pose a question related to it. The questions were subsequently categorized into three distinct types:\n",
    "\n",
    "- Answerable from the text: Questions where the answer could be directly found in the text.\n",
    "- Inferable from the text: Questions where the answer could be inferred but required deeper understanding or reasoning based on the text.\n",
    "- Not answerable by the text: Questions where the answer could not be derived from the text at all.\n",
    "\n",
    "In the example dataset:\n",
    "- **Reference Text**: A column containing the text that children were asked to read beforehand.\n",
    "- **Question**: A column containing the questions posed by the children after reading the reference text.\n",
    "\n",
    "To classify a question, both the reference text and the question itself are required, as the classification depends on the relationship between the two.\n",
    "\n",
    "Additionally, the dataset includes ratings from three different human annotators. These ratings allow us to compute inter-annotator agreement, such as Cohen's kappa, once the analysis is complete."
   ]
  },
  {
   "cell_type": "markdown",
   "metadata": {},
   "source": [
    "## Import the libraries"
   ]
  },
  {
   "cell_type": "code",
   "execution_count": 1,
   "metadata": {},
   "outputs": [],
   "source": [
    "import os\n",
    "import pandas as pd\n",
    "from qualitative_analysis import (\n",
    "    load_data,\n",
    "    clean_and_normalize,\n",
    "    sanitize_dataframe,\n",
    "    get_llm_client,\n",
    "    compute_all_kappas,\n",
    "    plot_confusion_matrices,\n",
    "    process_verbatims_for_multiclass_criteria,\n",
    ")\n",
    "import qualitative_analysis.config as config"
   ]
  },
  {
   "cell_type": "markdown",
   "metadata": {},
   "source": [
    "## Load the data\n",
    "\n",
    "To begin, we need to load the dataset, which is stored in the `data` folder located in the project's root directory.\n",
    "\n",
    "In this step, we define the data directory and the file path for the dataset. We then load the data and preview the first few rows to get an overview of the dataset's structure and content."
   ]
  },
  {
   "cell_type": "code",
   "execution_count": 2,
   "metadata": {},
   "outputs": [
    {
     "data": {
      "text/html": [
       "<div>\n",
       "<style scoped>\n",
       "    .dataframe tbody tr th:only-of-type {\n",
       "        vertical-align: middle;\n",
       "    }\n",
       "\n",
       "    .dataframe tbody tr th {\n",
       "        vertical-align: top;\n",
       "    }\n",
       "\n",
       "    .dataframe thead th {\n",
       "        text-align: right;\n",
       "    }\n",
       "</style>\n",
       "<table border=\"1\" class=\"dataframe\">\n",
       "  <thead>\n",
       "    <tr style=\"text-align: right;\">\n",
       "      <th></th>\n",
       "      <th>q_index</th>\n",
       "      <th>text</th>\n",
       "      <th>question</th>\n",
       "      <th>div_rater1</th>\n",
       "      <th>div_rater2</th>\n",
       "      <th>div_rater3</th>\n",
       "    </tr>\n",
       "  </thead>\n",
       "  <tbody>\n",
       "    <tr>\n",
       "      <th>0</th>\n",
       "      <td>196</td>\n",
       "      <td>Les énormes yeux des insectes font quasiment l...</td>\n",
       "      <td>Pourquoi ces petits yeux sont chargés de trait...</td>\n",
       "      <td>2</td>\n",
       "      <td>2</td>\n",
       "      <td>2</td>\n",
       "    </tr>\n",
       "    <tr>\n",
       "      <th>1</th>\n",
       "      <td>197</td>\n",
       "      <td>Les énormes yeux des insectes font quasiment l...</td>\n",
       "      <td>Comment les point sont ensuite assemblés</td>\n",
       "      <td>2</td>\n",
       "      <td>2</td>\n",
       "      <td>0</td>\n",
       "    </tr>\n",
       "    <tr>\n",
       "      <th>2</th>\n",
       "      <td>198</td>\n",
       "      <td>Les énormes yeux des insectes font quasiment l...</td>\n",
       "      <td>C'est quoi un casque de vision 3D ?</td>\n",
       "      <td>2</td>\n",
       "      <td>2</td>\n",
       "      <td>2</td>\n",
       "    </tr>\n",
       "    <tr>\n",
       "      <th>3</th>\n",
       "      <td>199</td>\n",
       "      <td>Les énormes yeux des insectes font quasiment l...</td>\n",
       "      <td>Combien d'yeux petits ont les humains en moyen...</td>\n",
       "      <td>2</td>\n",
       "      <td>2</td>\n",
       "      <td>2</td>\n",
       "    </tr>\n",
       "    <tr>\n",
       "      <th>4</th>\n",
       "      <td>200</td>\n",
       "      <td>Les énormes yeux des insectes font quasiment l...</td>\n",
       "      <td>Quel être vivant a le plus de petis yeux ?</td>\n",
       "      <td>1</td>\n",
       "      <td>1</td>\n",
       "      <td>2</td>\n",
       "    </tr>\n",
       "  </tbody>\n",
       "</table>\n",
       "</div>"
      ],
      "text/plain": [
       "   q_index                                               text  \\\n",
       "0      196  Les énormes yeux des insectes font quasiment l...   \n",
       "1      197  Les énormes yeux des insectes font quasiment l...   \n",
       "2      198  Les énormes yeux des insectes font quasiment l...   \n",
       "3      199  Les énormes yeux des insectes font quasiment l...   \n",
       "4      200  Les énormes yeux des insectes font quasiment l...   \n",
       "\n",
       "                                            question  div_rater1  div_rater2  \\\n",
       "0  Pourquoi ces petits yeux sont chargés de trait...           2           2   \n",
       "1           Comment les point sont ensuite assemblés           2           2   \n",
       "2                C'est quoi un casque de vision 3D ?           2           2   \n",
       "3  Combien d'yeux petits ont les humains en moyen...           2           2   \n",
       "4         Quel être vivant a le plus de petis yeux ?           1           1   \n",
       "\n",
       "   div_rater3  \n",
       "0           2  \n",
       "1           0  \n",
       "2           2  \n",
       "3           2  \n",
       "4           2  "
      ]
     },
     "execution_count": 2,
     "metadata": {},
     "output_type": "execute_result"
    }
   ],
   "source": [
    "# Define data directory\n",
    "data_dir = 'data'\n",
    "os.makedirs(data_dir, exist_ok=True)\n",
    "\n",
    "# Define the path to your dataset\n",
    "data_file_path = os.path.join(data_dir, 'multiclass_sample.csv')\n",
    "\n",
    "# Load the data\n",
    "data = load_data(data_file_path, file_type='csv', delimiter=';')\n",
    "\n",
    "# Preview the data\n",
    "data.head()"
   ]
  },
  {
   "cell_type": "markdown",
   "metadata": {},
   "source": [
    "## Data Preprocessing\n",
    "\n",
    "In this step, we preprocess the dataset to ensure it is ready for analysis. The operations include:\n",
    "\n",
    "1. **Rename Columns** (optional): Rename the original column names to more descriptive ones for clarity.\n",
    "2. **Define Text Columns**: Identify the columns containing textual data (here `text` and `question`) for further cleaning.\n",
    "3. **Clean and Normalize Text**: Apply a cleaning function to normalize and standardize the text data in the identified columns.\n",
    "4. **Sanitize the DataFrame**: Remove any newline or carriage return characters from string columns to ensure consistent formatting across the dataset.\n",
    "\n",
    "These preprocessing steps prepare the data for analysis."
   ]
  },
  {
   "cell_type": "code",
   "execution_count": 3,
   "metadata": {},
   "outputs": [],
   "source": [
    "# 1a) Define a mapping from old column names to new names\n",
    "# rename_map = {\n",
    "#     \"ref\": \"reference\",\n",
    "#     \"txt1.ctrl1\": \"Identify\",\n",
    "#     \"txt1.det\": \"Guess\",\n",
    "#     \"txt1.exp\": \"Seek\",\n",
    "#     \"txt1.ctrl2\": \"Assess\"\n",
    "# }\n",
    "\n",
    "# # 1b) Rename the columns in the DataFrame\n",
    "# data = data.rename(columns=rename_map)\n",
    "\n",
    "# 2) Now define the new column names for cleaning\n",
    "text_columns = [\"text\", \"question\"]\n",
    "\n",
    "# 3) Clean and normalize the new columns\n",
    "for col in text_columns:\n",
    "    data[col] = clean_and_normalize(data[col])\n",
    "\n",
    "# 4) Sanitize the DataFrame\n",
    "data = sanitize_dataframe(data)\n"
   ]
  },
  {
   "cell_type": "markdown",
   "metadata": {},
   "source": [
    "## Combine Texts and Questions\n",
    "\n",
    "Then, we combine the reference texts and questions into a single formatted string for each row called **verbatim**, making it easier to process and analyze."
   ]
  },
  {
   "cell_type": "code",
   "execution_count": 4,
   "metadata": {},
   "outputs": [
    {
     "name": "stdout",
     "output_type": "stream",
     "text": [
      "Total number of verbatims: 107\n",
      "Verbatim example:\n",
      "Text: Les enormes yeux des insectes font quasiment le tour de leurs tetes. Ils voient donc en meme temps vers lavant, vers larriere, a droite, a gauche, vers le haut et vers le bas. Encore mieux quun casque de vision en 3D! En revanche, ils ne voient pas tres net, parce que leur il est constitue de centaines, ou meme de milliers de petits yeux simples. Chacun de ces petits yeux est charge de traiter une toute petite partie de lenvironnement. Un petit il produit un simple point dune teinte et dune intensite lumineuse donnees. Ces points sont ensuite assembles les uns aux autres dans le cerveau de linsecte pour former une image complete et unique. Un il dune abeille contient 4500 petits yeux. Celui dune libellule en a 15000: cest l'il le plus complexe chez les insectes !\n",
      "\n",
      "Question: Pourquoi ces petits yeux sont charges de traiter une petite partie de l'environnement ?\n"
     ]
    }
   ],
   "source": [
    "# Combine texts and entries\n",
    "\n",
    "data['verbatim'] = data.apply(\n",
    "    lambda row: (\n",
    "        f\"Text: {row['text']}\\n\\n\"\n",
    "        f\"Question: {row['question']}\"\n",
    "    ),\n",
    "    axis=1\n",
    ")\n",
    "\n",
    "# Extract the list of verbatims\n",
    "verbatims = data['verbatim'].tolist()\n",
    "\n",
    "print(f\"Total number of verbatims: {len(verbatims)}\")\n",
    "print(f\"Verbatim example:\\n{verbatims[0]}\")"
   ]
  },
  {
   "cell_type": "markdown",
   "metadata": {},
   "source": [
    "## Choose the LLM\n",
    "\n",
    "In this step, we initialize the client to interact with a specific large language model (LLM) provider.\n",
    "This setup enables communication with the chosen language model.\n",
    "\n",
    "For OpenAI models use the openai API, for open-source models use the TogetherAI API.\n",
    "\n",
    "OpenAI models: https://platform.openai.com/docs/models\n",
    "\n",
    "TogetherAI models: https://docs.together.ai/docs/chat-models"
   ]
  },
  {
   "cell_type": "code",
   "execution_count": 5,
   "metadata": {},
   "outputs": [],
   "source": [
    "# Choose the provider and model\n",
    "provider = 'azure'\n",
    "model_name = 'gpt-4o-mini'\n",
    "\n",
    "# Initialize the client\n",
    "llm_client = get_llm_client(provider=provider, config=config.MODEL_CONFIG[provider])"
   ]
  },
  {
   "cell_type": "markdown",
   "metadata": {},
   "source": [
    "## Prompt Construction and Classification\n",
    "\n",
    "In this step, we define the logic for constructing prompts and processing data for multiclass classification using LLMs. The structure of the prompt provided to the LLM includes:\n",
    "\n",
    "1. **Column Descriptions**:  \n",
    "   A brief explanation of the dataset columns to clarify their roles.\n",
    "\n",
    "2. **Codebook**:  \n",
    "   Clear instructions for the classification task, written as if you were explaining the task to a human annotator.\n",
    "\n",
    "3. **Examples (Optional)**:  \n",
    "   Include illustrative examples (not included in the dataset) formatted to demonstrate the desired classification approach, guiding the LLM in the classification process.\n",
    "\n",
    "4. **Verbatims**:  \n",
    "   The specific reference text and question from the dataset to be classified.\n",
    "\n",
    "### Classification Settings\n",
    "- **Reasoning**:  \n",
    "  - `reasoning = False`: A single-step classification where the LLM directly returns a classification label (e.g., `0`, `1`, or `2`). This uses only the multiclass query.  \n",
    "  - `reasoning = True`: A two-step process where the LLM first generates a reasoning statement (based on the reasoning query). The reasoning, combined with the initial prompt and multiclass query, is used to determine the classification label. This requires two LLM calls per entry.\n",
    "\n",
    "- **Valid Scores**:  \n",
    "  `valid_scores = [0, 1, 2]`: The list of possible classification labels, which can be adjusted to match the specific requirements of the task."
   ]
  },
  {
   "cell_type": "code",
   "execution_count": 6,
   "metadata": {},
   "outputs": [
    {
     "name": "stdout",
     "output_type": "stream",
     "text": [
      "\n",
      "=== Processing Complete ===\n",
      "Total Tokens Used: 10146\n",
      "Total Cost for Processing: $0.0017\n",
      "{'Text': \"Les enormes yeux des insectes font quasiment le tour de leurs tetes. Ils voient donc en meme temps vers lavant, vers larriere, a droite, a gauche, vers le haut et vers le bas. Encore mieux quun casque de vision en 3D! En revanche, ils ne voient pas tres net, parce que leur il est constitue de centaines, ou meme de milliers de petits yeux simples. Chacun de ces petits yeux est charge de traiter une toute petite partie de lenvironnement. Un petit il produit un simple point dune teinte et dune intensite lumineuse donnees. Ces points sont ensuite assembles les uns aux autres dans le cerveau de linsecte pour former une image complete et unique. Un il dune abeille contient 4500 petits yeux. Celui dune libellule en a 15000: cest l'il le plus complexe chez les insectes !\", 'Question': \"Pourquoi ces petits yeux sont charges de traiter une petite partie de l'environnement ?\", 'Theme': 'Classification de divergence', 'Label': 1}\n",
      "{'Text': \"Les enormes yeux des insectes font quasiment le tour de leurs tetes. Ils voient donc en meme temps vers lavant, vers larriere, a droite, a gauche, vers le haut et vers le bas. Encore mieux quun casque de vision en 3D! En revanche, ils ne voient pas tres net, parce que leur il est constitue de centaines, ou meme de milliers de petits yeux simples. Chacun de ces petits yeux est charge de traiter une toute petite partie de lenvironnement. Un petit il produit un simple point dune teinte et dune intensite lumineuse donnees. Ces points sont ensuite assembles les uns aux autres dans le cerveau de linsecte pour former une image complete et unique. Un il dune abeille contient 4500 petits yeux. Celui dune libellule en a 15000: cest l'il le plus complexe chez les insectes !\", 'Question': 'Comment les point sont ensuite assembles', 'Theme': 'Classification de divergence', 'Label': 1}\n",
      "{'Text': \"Les enormes yeux des insectes font quasiment le tour de leurs tetes. Ils voient donc en meme temps vers lavant, vers larriere, a droite, a gauche, vers le haut et vers le bas. Encore mieux quun casque de vision en 3D! En revanche, ils ne voient pas tres net, parce que leur il est constitue de centaines, ou meme de milliers de petits yeux simples. Chacun de ces petits yeux est charge de traiter une toute petite partie de lenvironnement. Un petit il produit un simple point dune teinte et dune intensite lumineuse donnees. Ces points sont ensuite assembles les uns aux autres dans le cerveau de linsecte pour former une image complete et unique. Un il dune abeille contient 4500 petits yeux. Celui dune libellule en a 15000: cest l'il le plus complexe chez les insectes !\", 'Question': \"C'est quoi un casque de vision 3D ?\", 'Theme': 'Classification de divergence', 'Label': 1}\n",
      "{'Text': \"Les enormes yeux des insectes font quasiment le tour de leurs tetes. Ils voient donc en meme temps vers lavant, vers larriere, a droite, a gauche, vers le haut et vers le bas. Encore mieux quun casque de vision en 3D! En revanche, ils ne voient pas tres net, parce que leur il est constitue de centaines, ou meme de milliers de petits yeux simples. Chacun de ces petits yeux est charge de traiter une toute petite partie de lenvironnement. Un petit il produit un simple point dune teinte et dune intensite lumineuse donnees. Ces points sont ensuite assembles les uns aux autres dans le cerveau de linsecte pour former une image complete et unique. Un il dune abeille contient 4500 petits yeux. Celui dune libellule en a 15000: cest l'il le plus complexe chez les insectes !\", 'Question': \"Combien d'yeux petits ont les humains en moyenne ?\", 'Theme': 'Classification de divergence', 'Label': 2}\n",
      "{'Text': \"Les enormes yeux des insectes font quasiment le tour de leurs tetes. Ils voient donc en meme temps vers lavant, vers larriere, a droite, a gauche, vers le haut et vers le bas. Encore mieux quun casque de vision en 3D! En revanche, ils ne voient pas tres net, parce que leur il est constitue de centaines, ou meme de milliers de petits yeux simples. Chacun de ces petits yeux est charge de traiter une toute petite partie de lenvironnement. Un petit il produit un simple point dune teinte et dune intensite lumineuse donnees. Ces points sont ensuite assembles les uns aux autres dans le cerveau de linsecte pour former une image complete et unique. Un il dune abeille contient 4500 petits yeux. Celui dune libellule en a 15000: cest l'il le plus complexe chez les insectes !\", 'Question': 'Quel etre vivant a le plus de petis yeux ?', 'Theme': 'Classification de divergence', 'Label': 0}\n"
     ]
    }
   ],
   "source": [
    "# Define instructions for multiclass classification\n",
    "# Classification settings\n",
    "reasoning = True  # If True, perform two-step reasoning. If False, single-step classification.\n",
    "verbose = False # If True, show the prompt\n",
    "\n",
    "# Define valid scores (modifiable in the notebook)\n",
    "valid_scores = [0, 1, 2]  # You can change this to any list of valid scores\n",
    "\n",
    "# Select subset of verbatims for testing\n",
    "subset = 5\n",
    "verbatims_subset = verbatims[:subset]\n",
    "\n",
    "codebook = {\n",
    "\"Classification de divergence\":\n",
    "\n",
    "\"\"\"Codebook:\n",
    "\n",
    "Les données se composent d'un texte de référence et d'une question posée par un enfant.\n",
    "Vous devez classer la question dans l'une des catégories suivantes :\n",
    "\n",
    "0 : la réponse à la question est indiquée dans le texte.\n",
    "1 : la réponse à la question n'est pas explicitement indiquée dans le texte, mais peut être déduite ou devinée à partir du texte.\n",
    "2 : la réponse à la question n'est pas du tout indiquée dans le texte.\n",
    "\n",
    "Les erreurs mineures d'orthographe, de grammaire ou de formulation ne doivent pas être pénalisées tant que l'intention de l'entrée est claire et respecte les critères d'inclusion. Concentrez-vous sur le contenu et l'objectif de l'entrée plutôt que sur la perfection linguistique.\n",
    "\n",
    "Exemples:\n",
    "\n",
    "Exemple 1\n",
    "Texte: Marie Curie est née en Pologne. Elle fait ses études à la faculté des sciences de Paris. Elle fait partie des rares femmes qui y sont admises. Avec son mari Pierre Curie, ils travaillent sur l’étude des rayons X et découvrent deux éléments radioactifs. Le couple reçoit le prix Nobel de physique pour ça. Pendant la Première Guerre mondiale, Marie met en place des ambulances équipées d’appareils de radiologie, ce qui permet de sauver de nombreux blessés. Marie Curie est la première femme à avoir reçu deux prix Nobel: un avec Pierre Curie en physique, et l’autre pour ses recherches en chimie. Elle est morte en 1934.\n",
    "Question: Quand est-elle née ?\n",
    "Réponse: 2\n",
    "\n",
    "Exemple 2\n",
    "Texte: Marie Curie est née en Pologne. Elle fait ses études à la faculté des sciences de Paris. Elle fait partie des rares femmes qui y sont admises. Avec son mari Pierre Curie, ils travaillent sur l’étude des rayons X et découvrent deux éléments radioactifs. Le couple reçoit le prix Nobel de physique pour ça. Pendant la Première Guerre mondiale, Marie met en place des ambulances équipées d’appareils de radiologie, ce qui permet de sauver de nombreux blessés. Marie Curie est la première femme à avoir reçu deux prix Nobel: un avec Pierre Curie en physique, et l’autre pour ses recherches en chimie. Elle est morte en 1934.\n",
    "Question: Marie a-t-elle passé toute sa vie en Pologne ?\n",
    "Réponse: 0\n",
    "\n",
    "Exemple 3\n",
    "Texte: Marie Curie est née en Pologne. Elle fait ses études à la faculté des sciences de Paris. Elle fait partie des rares femmes qui y sont admises. Avec son mari Pierre Curie, ils travaillent sur l’étude des rayons X et découvrent deux éléments radioactifs. Le couple reçoit le prix Nobel de physique pour ça. Pendant la Première Guerre mondiale, Marie met en place des ambulances équipées d’appareils de radiologie, ce qui permet de sauver de nombreux blessés. Marie Curie est la première femme à avoir reçu deux prix Nobel: un avec Pierre Curie en physique, et l’autre pour ses recherches en chimie. Elle est morte en 1934.\n",
    "Question: Qui est Pierre Curie ?\n",
    "Réponse: 1\n",
    "\"\"\"\n",
    "}\n",
    "\n",
    "# Define column descriptions\n",
    "column_descriptions = (\n",
    "    \"Texte: Le texte de référence\\n\"\n",
    "    \"Question: La question de l'enfant.\"\n",
    ")\n",
    "\n",
    "# Define queries for multiclass classification and reasoning\n",
    "multiclass_query = \"Répondez uniquement avec le chiffre de classification, rien d'autre.\"\n",
    "reasoning_query = \"Générez un raisonnement d'une seule phrase à propos de la classification (ne donnez pas le label de classification).\" # used only if reasoning = True\n",
    "\n",
    "# To be sure to have an integer only when doing 1 call request\n",
    "command = (\n",
    "    \"Votre réponse ne doit contenir que le chiffre de classification, rien d'autre.\"\n",
    "    if not reasoning\n",
    "    else \"\"\n",
    ")\n",
    "\n",
    "prompt_template = f\"\"\"\n",
    "Vous êtes un assistant utile chargé d'évaluer l'entrée suivante :\n",
    "\n",
    "Entrée:\n",
    "{{verbatim_text}}\n",
    "\n",
    "Vous devez l'évaluer de la sorte :\n",
    "{{codebook}}\n",
    "Les données sont au format suivant :\n",
    "{column_descriptions}\n",
    "\n",
    "{command}\n",
    "\"\"\"\n",
    "\n",
    "# Process verbatims using the externalized function\n",
    "results, verbatim_costs = process_verbatims_for_multiclass_criteria(\n",
    "    verbatims_subset=verbatims_subset,\n",
    "    codebooks=codebook,\n",
    "    llm_client=llm_client,\n",
    "    model_name=model_name,\n",
    "    prompt_template=prompt_template,  \n",
    "    multiclass_query=multiclass_query,\n",
    "    reasoning_query=reasoning_query,\n",
    "    valid_scores=valid_scores,\n",
    "    reasoning=reasoning,\n",
    "    verbose=verbose\n",
    ")\n",
    "\n",
    "# Print final multiclass results\n",
    "for result in results:\n",
    "    print(result)\n",
    "\n",
    "# Convert results to DataFrame\n",
    "results_df = pd.DataFrame(results)"
   ]
  },
  {
   "cell_type": "markdown",
   "metadata": {},
   "source": [
    "## Saving the Results\n",
    "\n",
    "This step provides an option to save the classification results to a file for future reference or further analysis."
   ]
  },
  {
   "cell_type": "code",
   "execution_count": 11,
   "metadata": {},
   "outputs": [],
   "source": [
    "# Possibility to save the results\n",
    "\n",
    "# import datetime\n",
    "# # Define the save path\n",
    "# outputs_dir = os.path.join(data_dir, 'outputs')\n",
    "# os.makedirs(outputs_dir, exist_ok=True)\n",
    "# timestamp = datetime.now().strftime('%Y%m%d_%H%M%S')\n",
    "# save_path = os.path.join(\n",
    "#     outputs_dir, \n",
    "#     f\"experiment_{model_name.replace('/', '_')}_{timestamp}.xlsx\" \n",
    "# )\n",
    "\n",
    "# # Save the DataFrame to Excel\n",
    "# try:\n",
    "#     results_df.to_excel(save_path, index=False, sheet_name='Results')\n",
    "#     print(f\"Results successfully saved to: {save_path}\")\n",
    "# except Exception as e:\n",
    "#     print(f\"An error occurred while saving the Excel file: {e}\")"
   ]
  },
  {
   "cell_type": "markdown",
   "metadata": {},
   "source": [
    "## Evaluating Model Performance Against Human Annotations\n",
    "\n",
    "### Computing Cohen's Kappa\n",
    "\n",
    "In this step, we compare the model's classifications with human annotations using Cohen's Kappa.\n",
    "\n",
    "1. **Unweighted Kappa**:  \n",
    "   All disagreements are treated equally, regardless of the \"distance\" between the categories. For example, a mismatch between `0` and `1` is penalized the same as a mismatch between `0` and `2`.\n",
    "\n",
    "2. **Linear Weights**:  \n",
    "   With `weights='linear'`, disagreements are penalized proportionally to their distance. For instance:\n",
    "   - A mismatch between `0` and `1` incurs a smaller penalty than a mismatch between `0` and `2`.\n",
    "   - This approach is suitable when the categories have a natural ordering (e.g., `0 < 1 < 2`) but the differences are not exponential.\n",
    "\n",
    "3. **Quadratic Weights**:  \n",
    "   With `weights='quadratic'`, disagreements are penalized more heavily as the distance increases. This approach emphasizes larger disagreements even more than linear weights.\n",
    "\n"
   ]
  },
  {
   "cell_type": "code",
   "execution_count": 12,
   "metadata": {},
   "outputs": [
    {
     "name": "stdout",
     "output_type": "stream",
     "text": [
      "Model vs div_rater1: 0.07\n",
      "Model vs div_rater2: 0.07\n",
      "Model vs div_rater3: 0.29\n",
      "div_rater1 vs div_rater2: 1.00\n",
      "div_rater1 vs div_rater3: -0.15\n",
      "div_rater2 vs div_rater3: -0.15\n"
     ]
    }
   ],
   "source": [
    "# Assuming you have human annotations in the data\n",
    "model_coding = results_df['Label'].tolist()\n",
    "model_coding = [int(x) for x in model_coding]\n",
    "\n",
    "human_annotations = {\n",
    "    'div_rater1': [int(x) for x in data['div_rater1'].tolist()],\n",
    "    'div_rater2': [int(x) for x in data['div_rater2'].tolist()],\n",
    "    'div_rater3': [int(x) for x in data['div_rater3'].tolist()],\n",
    "}\n",
    "\n",
    "# Shorten data for demonstration if needed\n",
    "model_coding_short = model_coding[:subset]\n",
    "human_annotations_short = {rater: ann[:subset] for rater, ann in human_annotations.items()}\n",
    "\n",
    "# Compute Cohen's Kappa for all pairings and print results\n",
    "kappa_results = compute_all_kappas(\n",
    "    model_coding_short,\n",
    "    human_annotations_short,\n",
    "    labels=[0, 1, 2],\n",
    "    weights='linear',\n",
    "    verbose=True\n",
    ")"
   ]
  },
  {
   "cell_type": "markdown",
   "metadata": {},
   "source": [
    "### Visualizing Agreement\n",
    "\n",
    "In this step, we plot confusion matrices to visualize the agreement between the model's classifications and human annotations, or between two human annotations.\n",
    "\n",
    "**Inputs**:\n",
    "- `model_coding_short`: The model's predictions for the subset of data.\n",
    "- `human_annotations_short`: The annotations from human raters for the same subset.\n",
    "\n",
    "**Labels**:\n",
    "- `[0, 1, 2]`: The three classification categories representing:\n",
    "   - `0`: The answer is explicitly in the text.\n",
    "   - `1`: The answer can be inferred from the text.\n",
    "   - `2`: The answer is not in the text at all.\n"
   ]
  },
  {
   "cell_type": "code",
   "execution_count": 13,
   "metadata": {},
   "outputs": [
    {
     "data": {
      "image/png": "[encoded data removed]",
      "text/plain": [
       "<Figure size 1800x500 with 6 Axes>"
      ]
     },
     "metadata": {},
     "output_type": "display_data"
    },
    {
     "data": {
      "image/png": "[encoded data removed]",
      "text/plain": [
       "<Figure size 1800x500 with 6 Axes>"
      ]
     },
     "metadata": {},
     "output_type": "display_data"
    }
   ],
   "source": [
    "# Plot confusion matrices for all comparisons\n",
    "plot_confusion_matrices(model_coding_short, human_annotations_short, labels=[0, 1, 2])"
   ]
  }
 ],
 "metadata": {
  "kernelspec": {
   "display_name": "gpt_rl",
   "language": "python",
   "name": "python3"
  },
  "language_info": {
   "codemirror_mode": {
    "name": "ipython",
    "version": 3
   },
   "file_extension": ".py",
   "mimetype": "text/x-python",
   "name": "python",
   "nbconvert_exporter": "python",
   "pygments_lexer": "ipython3",
   "version": "3.11.10"
  }
 },
 "nbformat": 4,
 "nbformat_minor": 2
}
